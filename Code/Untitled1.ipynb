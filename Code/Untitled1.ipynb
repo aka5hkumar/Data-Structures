{
 "cells": [
  {
   "cell_type": "code",
   "execution_count": 20,
   "metadata": {
    "collapsed": false
   },
   "outputs": [],
   "source": [
    "def merge(a,b):\n",
    "    for i in range (min(len(a), len(b))):\n",
    "        yield a[i]\n",
    "        yield b[i]\n",
    "    if len(a) < len(b):\n",
    "        for i in range(len(b)-len(a)):\n",
    "            yield b[len(a)+i]\n",
    "    elif len(b) < len(a):\n",
    "        for i in range(len(a)-len(b)):\n",
    "            yield a[len(b)+i]\n",
    "    else:\n",
    "        pass\n"
   ]
  },
  {
   "cell_type": "code",
   "execution_count": 22,
   "metadata": {
    "collapsed": false
   },
   "outputs": [
    {
     "name": "stdout",
     "output_type": "stream",
     "text": [
      "[0, 100, 1, 101, 2, 102, 3, 103, 4, 104]\n",
      "[0, 100, 1, 2, 3, 4]\n",
      "[0, 100, 101, 102, 103, 104]\n"
     ]
    }
   ],
   "source": [
    "print([i for i in merge( range(5),range(100,105))])    \n",
    "print([i for i in merge( range(5),range(100,101))])\n",
    "print([i for i in merge( range(1),range(100,105))])"
   ]
  },
  {
   "cell_type": "code",
   "execution_count": 230,
   "metadata": {
    "collapsed": false
   },
   "outputs": [],
   "source": [
    "class polynomial:\n",
    "    def __init__(self, coefficients):\n",
    "        self.coeff = coefficients\n",
    "    \n",
    "    def __str__(self):\n",
    "        s = ''\n",
    "        length=len(self.coeff)-1\n",
    "        for i in range(0, len(self.coeff)):\n",
    "            if self.coeff[i] != 0:\n",
    "                s += ' + %gx^%d' % (self.coeff[i], length-i)\n",
    "        # Fix layout\n",
    "        s = s.replace('+ -', '- ')\n",
    "        s = s.replace('x^0', '')\n",
    "        s = s.replace(' 1*', ' ')\n",
    "        if s[0:3] == ' + ':  # remove initial +\n",
    "            s = s[3:]\n",
    "        if s[0:3] == ' - ':  # fix spaces for initial -\n",
    "            s = '-' + s[3:]\n",
    "        return s\n",
    "    def evaluate (self, variable):\n",
    "        r = 0\n",
    "        t=[0]\n",
    "        f=0   \n",
    "        length=len(self.coeff) \n",
    "        for k in range(len(coeff)):\n",
    "            r += self.coeff[k]*variable**(length-k-1)\n",
    "            t.append(r)\n",
    "        return (r)\n",
    "        if (len(t)>1):\n",
    "            f=t[-1]-t[-2]\n",
    "            return(f)\n",
    "        else:\n",
    "            f=t[-1]\n",
    "            return(f)"
   ]
  },
  {
   "cell_type": "code",
   "execution_count": 231,
   "metadata": {
    "collapsed": false
   },
   "outputs": [
    {
     "name": "stdout",
     "output_type": "stream",
     "text": [
      "6x^3 + 2x^2 + 1x^1 + 8\n",
      "[8, 17, 66, 191, 428, 813, 1382, 2171, 3216, 4553]\n"
     ]
    }
   ],
   "source": [
    "p = polynomial((6,2,1,8))\n",
    "print (str(p))\n",
    "print([p.evaluate(i) for i in range(10)])"
   ]
  },
  {
   "cell_type": "code",
   "execution_count": 97,
   "metadata": {
    "collapsed": false
   },
   "outputs": [
    {
     "ename": "NameError",
     "evalue": "name 'evaluate' is not defined",
     "output_type": "error",
     "traceback": [
      "\u001b[0;31m---------------------------------------------------------------------------\u001b[0m",
      "\u001b[0;31mNameError\u001b[0m                                 Traceback (most recent call last)",
      "\u001b[0;32m<ipython-input-97-1a44acea61b9>\u001b[0m in \u001b[0;36m<module>\u001b[0;34m()\u001b[0m\n\u001b[0;32m----> 1\u001b[0;31m \u001b[0mprint\u001b[0m\u001b[1;33m(\u001b[0m\u001b[0mevaluate\u001b[0m\u001b[1;33m(\u001b[0m\u001b[0mp\u001b[0m\u001b[1;33m)\u001b[0m\u001b[1;33m)\u001b[0m\u001b[1;33m\u001b[0m\u001b[0m\n\u001b[0m",
      "\u001b[0;31mNameError\u001b[0m: name 'evaluate' is not defined"
     ]
    }
   ],
   "source": [
    "print(evaluate(p))"
   ]
  },
  {
   "cell_type": "code",
   "execution_count": 219,
   "metadata": {
    "collapsed": false
   },
   "outputs": [
    {
     "name": "stdout",
     "output_type": "stream",
     "text": [
      "8\n",
      "17\n",
      "66\n",
      "191\n",
      "428\n",
      "813\n",
      "1382\n",
      "2171\n",
      "3216\n",
      "4553\n"
     ]
    }
   ],
   "source": [
    "coeff=(6,2,1,8)\n",
    "s = 0\n",
    "t=[0]\n",
    "f=0\n",
    "for variable in range(10):\n",
    "    length=len(coeff) \n",
    "    for i in range(len(coeff)):\n",
    "        s += coeff[i]*variable**(length-i-1)\n",
    "    t.append(s)\n",
    "    if (len(t)>1):\n",
    "        f=t[-1]-t[-2]\n",
    "        print(f)\n",
    "    else:\n",
    "        f=t[-1]\n",
    "        print(f)"
   ]
  },
  {
   "cell_type": "code",
   "execution_count": 163,
   "metadata": {
    "collapsed": true
   },
   "outputs": [],
   "source": [
    "def f(n):\n",
    "    return 1/pow(2,n)\n",
    "\n",
    "def sigma(f,a,b):\n",
    "    sumVal=0\n",
    "    for i in range(b-a+1):\n",
    "        sumVal += f(i +a)\n",
    "    return sumVal"
   ]
  },
  {
   "cell_type": "code",
   "execution_count": 135,
   "metadata": {
    "collapsed": false
   },
   "outputs": [
    {
     "data": {
      "text/plain": [
       "0.4990234375"
      ]
     },
     "execution_count": 135,
     "metadata": {},
     "output_type": "execute_result"
    }
   ],
   "source": [
    "sigma(f,2,10)"
   ]
  },
  {
   "cell_type": "code",
   "execution_count": 149,
   "metadata": {
    "collapsed": false
   },
   "outputs": [
    {
     "ename": "SyntaxError",
     "evalue": "invalid syntax (<ipython-input-149-27321cc4f856>, line 9)",
     "output_type": "error",
     "traceback": [
      "\u001b[0;36m  File \u001b[0;32m\"<ipython-input-149-27321cc4f856>\"\u001b[0;36m, line \u001b[0;32m9\u001b[0m\n\u001b[0;31m    print poly([1,2,1],2)\u001b[0m\n\u001b[0m             ^\u001b[0m\n\u001b[0;31mSyntaxError\u001b[0m\u001b[0;31m:\u001b[0m invalid syntax\n"
     ]
    }
   ],
   "source": []
  },
  {
   "cell_type": "code",
   "execution_count": null,
   "metadata": {
    "collapsed": true
   },
   "outputs": [],
   "source": []
  }
 ],
 "metadata": {
  "kernelspec": {
   "display_name": "Python 3",
   "language": "python",
   "name": "python3"
  },
  "language_info": {
   "codemirror_mode": {
    "name": "ipython",
    "version": 3
   },
   "file_extension": ".py",
   "mimetype": "text/x-python",
   "name": "python",
   "nbconvert_exporter": "python",
   "pygments_lexer": "ipython3",
   "version": "3.6.0"
  }
 },
 "nbformat": 4,
 "nbformat_minor": 2
}
